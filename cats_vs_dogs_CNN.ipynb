{
  "nbformat": 4,
  "nbformat_minor": 0,
  "metadata": {
    "colab": {
      "provenance": [],
      "gpuType": "T4"
    },
    "kernelspec": {
      "name": "python3",
      "display_name": "Python 3"
    },
    "language_info": {
      "name": "python"
    },
    "accelerator": "GPU"
  },
  "cells": [
    {
      "cell_type": "code",
      "execution_count": 1,
      "metadata": {
        "id": "EG0D4EChXrFy"
      },
      "outputs": [],
      "source": [
        "import tensorflow as tf\n",
        "from keras.preprocessing import image\n",
        "from keras.utils import load_img,img_to_array\n",
        "from keras.preprocessing.image import ImageDataGenerator\n",
        "import keras\n",
        "from keras import Sequential\n",
        "from keras.layers import Dense,Flatten,MaxPooling2D,Dropout,BatchNormalization,Conv2D\n",
        "from keras.utils import image_dataset_from_directory"
      ]
    },
    {
      "cell_type": "code",
      "source": [
        "from google.colab import drive\n",
        "drive.mount('/content/drive')"
      ],
      "metadata": {
        "colab": {
          "base_uri": "https://localhost:8080/"
        },
        "id": "JnUAp3tFZGcx",
        "outputId": "e58b5cac-d9bf-4e32-863d-a86449248533"
      },
      "execution_count": 2,
      "outputs": [
        {
          "output_type": "stream",
          "name": "stdout",
          "text": [
            "Mounted at /content/drive\n"
          ]
        }
      ]
    },
    {
      "cell_type": "code",
      "source": [
        "train_ds=image_dataset_from_directory(\n",
        "    directory='/content/drive/MyDrive/Colab Notebooks/dogs_cats/train',\n",
        "    labels='inferred',\n",
        "    label_mode='int',\n",
        "    batch_size=32,\n",
        "    image_size=(256,256)\n",
        ")\n",
        "val_ds=image_dataset_from_directory(\n",
        "    directory='/content/drive/MyDrive/Colab Notebooks/dogs_cats/valid',\n",
        "    labels='inferred',\n",
        "    label_mode='int',\n",
        "    batch_size=32,\n",
        "    image_size=(256,256)\n",
        ")"
      ],
      "metadata": {
        "colab": {
          "base_uri": "https://localhost:8080/"
        },
        "id": "_PcwHw_9ZnYV",
        "outputId": "52c6b5d9-a838-47bc-961f-7b82ed0b5a64"
      },
      "execution_count": 3,
      "outputs": [
        {
          "output_type": "stream",
          "name": "stdout",
          "text": [
            "Found 2004 files belonging to 2 classes.\n",
            "Found 2000 files belonging to 2 classes.\n"
          ]
        }
      ]
    },
    {
      "cell_type": "code",
      "source": [
        "def normalize(image,label):\n",
        "  image=tf.cast(image/255,tf.float32)\n",
        "  return image,label\n",
        "train_ds=train_ds.map(normalize)\n",
        "val_ds=val_ds.map(normalize)"
      ],
      "metadata": {
        "id": "lM1-_VcMcAN-"
      },
      "execution_count": 4,
      "outputs": []
    },
    {
      "cell_type": "code",
      "source": [
        "# create CNN model\n",
        "\n",
        "model = Sequential()\n",
        "\n",
        "model.add(Conv2D(32,kernel_size=(3,3),padding='valid',activation='relu',input_shape=(256,256,3)))\n",
        "model.add(BatchNormalization())\n",
        "model.add(MaxPooling2D(pool_size=(2,2),strides=2,padding='valid'))\n",
        "\n",
        "model.add(Conv2D(64,kernel_size=(3,3),padding='valid',activation='relu'))\n",
        "model.add(BatchNormalization())\n",
        "model.add(MaxPooling2D(pool_size=(2,2),strides=2,padding='valid'))\n",
        "\n",
        "model.add(Conv2D(128,kernel_size=(3,3),padding='valid',activation='relu'))\n",
        "model.add(BatchNormalization())\n",
        "model.add(MaxPooling2D(pool_size=(2,2),strides=2,padding='valid'))\n",
        "\n",
        "model.add(Flatten())\n",
        "\n",
        "model.add(Dense(128,activation='relu'))\n",
        "model.add(Dropout(0.1))\n",
        "model.add(Dense(64,activation='relu'))\n",
        "model.add(Dropout(0.1))\n",
        "model.add(Dense(1,activation='sigmoid'))"
      ],
      "metadata": {
        "id": "DqW3SBrvcnGp"
      },
      "execution_count": 5,
      "outputs": []
    },
    {
      "cell_type": "code",
      "source": [
        "model.compile(optimizer='adam',loss='binary_crossentropy',metrics=['accuracy'])"
      ],
      "metadata": {
        "id": "qqCfQ9tzdHoH"
      },
      "execution_count": 6,
      "outputs": []
    },
    {
      "cell_type": "code",
      "source": [
        "history = model.fit(train_ds,epochs=5,validation_data=val_ds)"
      ],
      "metadata": {
        "colab": {
          "base_uri": "https://localhost:8080/"
        },
        "id": "G1MyEgTP_ZMG",
        "outputId": "f946d4c1-2e61-4596-ae96-5a4ca13095f1"
      },
      "execution_count": 8,
      "outputs": [
        {
          "output_type": "stream",
          "name": "stdout",
          "text": [
            "Epoch 1/5\n",
            "63/63 [==============================] - 551s 9s/step - loss: 4.5096 - accuracy: 0.5639 - val_loss: 4.3432 - val_accuracy: 0.4995\n",
            "Epoch 2/5\n",
            "63/63 [==============================] - 17s 257ms/step - loss: 2.1781 - accuracy: 0.5699 - val_loss: 6.6114 - val_accuracy: 0.4950\n",
            "Epoch 3/5\n",
            "63/63 [==============================] - 12s 170ms/step - loss: 1.0353 - accuracy: 0.6178 - val_loss: 2.5955 - val_accuracy: 0.5180\n",
            "Epoch 4/5\n",
            "63/63 [==============================] - 13s 196ms/step - loss: 0.8066 - accuracy: 0.6482 - val_loss: 1.9581 - val_accuracy: 0.4805\n",
            "Epoch 5/5\n",
            "63/63 [==============================] - 17s 255ms/step - loss: 0.6720 - accuracy: 0.6697 - val_loss: 0.8828 - val_accuracy: 0.5300\n"
          ]
        }
      ]
    }
  ]
}